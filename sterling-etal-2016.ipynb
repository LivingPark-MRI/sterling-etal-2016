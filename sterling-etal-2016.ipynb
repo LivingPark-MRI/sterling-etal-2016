{
 "cells": [
  {
   "cell_type": "markdown",
   "id": "e1da3118",
   "metadata": {},
   "source": [
    "# Initial Study\n",
    "\n",
    "This notebook identifies PPMI subjects to reproduce the following paper:\n",
    "\n",
    "<div class=\"alert alert-block alert-success\">\n",
    "Sterling, Nicholas W, et al. <a href=https://n.neurology.org/content/86/12/1143.short>Stage-dependent loss of cortical gyrification as Parkinson disease “unfolds”.</a> Neurology, vol. 86, no. 12, pp. 1143–1151, Mar. 2016. \n",
    "</div>"
   ]
  },
  {
   "cell_type": "markdown",
   "id": "e00c7269",
   "metadata": {},
   "source": [
    "<img src=\"demographics.png\">"
   ]
  },
  {
   "cell_type": "code",
   "execution_count": 1,
   "id": "55b56d96",
   "metadata": {},
   "outputs": [
    {
     "data": {
      "text/html": [
       "<script>\n",
       "code_show=true; \n",
       "function code_toggle() {\n",
       " if (code_show){\n",
       " $('div.input').hide();\n",
       " } else {\n",
       " $('div.input').show();\n",
       " }\n",
       " code_show = !code_show\n",
       "} \n",
       "$( document ).ready(code_toggle);\n",
       "</script>\n",
       "<form action=\"javascript:code_toggle()\"><input type=\"submit\" value=\"Click here to toggle on/off the Python code.\"></form>"
      ],
      "text/plain": [
       "<IPython.core.display.HTML object>"
      ]
     },
     "execution_count": 1,
     "metadata": {},
     "output_type": "execute_result"
    }
   ],
   "source": [
    "from IPython.display import HTML\n",
    "\n",
    "HTML('''<script>\n",
    "code_show=true; \n",
    "function code_toggle() {\n",
    " if (code_show){\n",
    " $('div.input').hide();\n",
    " } else {\n",
    " $('div.input').show();\n",
    " }\n",
    " code_show = !code_show\n",
    "} \n",
    "$( document ).ready(code_toggle);\n",
    "</script>\n",
    "<form action=\"javascript:code_toggle()\"><input type=\"submit\" value=\"Click here to toggle on/off the Python code.\"></form>''')\n",
    "\n"
   ]
  },
  {
   "cell_type": "code",
   "execution_count": 5,
   "id": "200b9b7e",
   "metadata": {},
   "outputs": [
    {
     "name": "stdout",
     "output_type": "stream",
     "text": [
      "This notebook was run on 2022-07-07 10:24:04.785116\n"
     ]
    }
   ],
   "source": [
    "import datetime\n",
    "print(f'This notebook was run on {datetime.datetime.now()}')"
   ]
  },
  {
   "cell_type": "code",
   "execution_count": null,
   "id": "b6869aad",
   "metadata": {},
   "outputs": [],
   "source": []
  },
  {
   "cell_type": "markdown",
   "id": "9a0b51ec",
   "metadata": {},
   "source": [
    "# PPMI metadata download"
   ]
  },
  {
   "cell_type": "markdown",
   "id": "327340ba",
   "metadata": {},
   "source": [
    "\n",
    "Let's download the required metadata files from PPMI. You will need to enter your PPMI username and password."
   ]
  },
  {
   "cell_type": "code",
   "execution_count": null,
   "id": "9dd9e053",
   "metadata": {},
   "outputs": [
    {
     "name": "stdout",
     "output_type": "stream",
     "text": [
      "Downloading missing files: ['Age_at_visit.csv', 'Demographics.csv', 'REM_Sleep_Behavior_Disorder_Questionnaire.csv']\n"
     ]
    }
   ],
   "source": [
    "import os\n",
    "import os.path as op\n",
    "import ppmi_downloader\n",
    "\n",
    "data_dir = 'data'\n",
    "required_files = ['Age_at_visit.csv',  'Demographics.csv',  \n",
    "                  'REM_Sleep_Behavior_Disorder_Questionnaire.csv']\n",
    "\n",
    "missing_files = [x for x in required_files if not op.exists(os.path.join(data_dir, x))]\n",
    "\n",
    "if len(missing_files) > 0:\n",
    "    print(f'Downloading missing files: {missing_files}')\n",
    "    ppmi = ppmi_downloader.PPMIDownloader()\n",
    "    ppmi.download_metadata(missing_files, destination_dir=data_dir, headless=False, timeout=600)\n",
    "\n",
    "print(f'The following files are available: {required_files}')"
   ]
  },
  {
   "cell_type": "code",
   "execution_count": null,
   "id": "d9fe7a9d",
   "metadata": {},
   "outputs": [],
   "source": []
  }
 ],
 "metadata": {
  "kernelspec": {
   "display_name": "Python 3 (ipykernel)",
   "language": "python",
   "name": "python3"
  },
  "language_info": {
   "codemirror_mode": {
    "name": "ipython",
    "version": 3
   },
   "file_extension": ".py",
   "mimetype": "text/x-python",
   "name": "python",
   "nbconvert_exporter": "python",
   "pygments_lexer": "ipython3",
   "version": "3.9.12"
  }
 },
 "nbformat": 4,
 "nbformat_minor": 5
}
