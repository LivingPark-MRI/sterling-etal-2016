{
 "cells": [
  {
   "cell_type": "markdown",
   "id": "ef3fa088",
   "metadata": {},
   "source": [
    "# Initial Study\n",
    "\n",
    "This notebook identifies PPMI subjects to reproduce the following paper:\n",
    "\n",
    "<div class=\"alert alert-block alert-success\">\n",
    "Sterling, Nicholas W, et al. <a href=https://n.neurology.org/content/86/12/1143.short>Stage-dependent loss of cortical gyrification as Parkinson disease “unfolds”.</a> Neurology, vol. 86, no. 12, pp. 1143–1151, Mar. 2016. \n",
    "</div>"
   ]
  },
  {
   "cell_type": "markdown",
   "id": "c94b5ce9",
   "metadata": {},
   "source": [
    "<img src=\"demographics.png\">"
   ]
  },
  {
   "cell_type": "code",
   "execution_count": null,
   "id": "bbe77cf7",
   "metadata": {},
   "outputs": [],
   "source": []
  }
 ],
 "metadata": {
  "kernelspec": {
   "display_name": "Python 3 (ipykernel)",
   "language": "python",
   "name": "python3"
  },
  "language_info": {
   "codemirror_mode": {
    "name": "ipython",
    "version": 3
   },
   "file_extension": ".py",
   "mimetype": "text/x-python",
   "name": "python",
   "nbconvert_exporter": "python",
   "pygments_lexer": "ipython3",
   "version": "3.9.12"
  }
 },
 "nbformat": 4,
 "nbformat_minor": 5
}
