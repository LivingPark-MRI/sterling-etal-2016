{
 "cells": [
  {
   "cell_type": "markdown",
   "id": "e1da3118",
   "metadata": {},
   "source": [
    "# Replication: Sterling *etal*, 2016\n",
    "## Introduction\n",
    "\n",
    "This notebook attempts to replicate the following paper with [PPMI](http://ppmi-info.org) dataset:\n",
    "\n",
    "<div class=\"alert alert-block alert-success\">\n",
    "Sterling, Nicholas W, et al. <a href=https://n.neurology.org/content/86/12/1143.short>Stage-dependent loss of cortical gyrification as Parkinson disease “unfolds”.</a> Neurology, vol. 86, no. 12, pp. 1143–1151, Mar. 2016. \n",
    "</div>"
   ]
  },
  {
   "cell_type": "markdown",
   "id": "e00c7269",
   "metadata": {},
   "source": [
    "This study recruited 70 patients with PD without dementia and 70 control participants. Cortical local gyrification index (LGI) was compared between controls and PD subgroups based upon duration of illness. In the longitudinal cohort, PD<sub>L</sub> had significantly reduced overall gyrification, and bilaterally in the inferior parietal, postcentral, precentral, superior frontal, and superamarginal areas, compared to controls (*p* < 0.05). Longitudinally, loss of gyrification was accelerated in PD<sub>M</sub>, compared to controls. Demographic and clinical properties were as follows (table extracted from the paper):\n",
    "\n",
    "<br>\n",
    "<img src=\"demographics.png\">"
   ]
  },
  {
   "cell_type": "code",
   "execution_count": 63,
   "id": "55b56d96",
   "metadata": {
    "scrolled": true
   },
   "outputs": [
    {
     "data": {
      "text/html": [
       "<script>\n",
       "code_show=true; \n",
       "function code_toggle() {\n",
       " if (code_show){\n",
       " $('div.input').hide();\n",
       " } else {\n",
       " $('div.input').show();\n",
       " }\n",
       " code_show = !code_show\n",
       "} \n",
       "$( document ).ready(code_toggle);\n",
       "</script>\n",
       "<form action=\"javascript:code_toggle()\"><input type=\"submit\" value=\"Click here to toggle on/off the Python code.\"></form>"
      ],
      "text/plain": [
       "<IPython.core.display.HTML object>"
      ]
     },
     "execution_count": 63,
     "metadata": {},
     "output_type": "execute_result"
    }
   ],
   "source": [
    "from IPython.display import HTML\n",
    "\n",
    "HTML(\n",
    "    \"\"\"<script>\n",
    "code_show=true; \n",
    "function code_toggle() {\n",
    " if (code_show){\n",
    " $('div.input').hide();\n",
    " } else {\n",
    " $('div.input').show();\n",
    " }\n",
    " code_show = !code_show\n",
    "} \n",
    "$( document ).ready(code_toggle);\n",
    "</script>\n",
    "<form action=\"javascript:code_toggle()\"><input type=\"submit\" value=\"Click here to toggle on/off the Python code.\"></form>\"\"\"\n",
    ")"
   ]
  },
  {
   "cell_type": "code",
   "execution_count": 64,
   "id": "200b9b7e",
   "metadata": {},
   "outputs": [
    {
     "name": "stdout",
     "output_type": "stream",
     "text": [
      "This notebook was run on 2022-08-23 19:53:47.362421\n"
     ]
    }
   ],
   "source": [
    "import datetime\n",
    "\n",
    "print(f\"This notebook was run on {datetime.datetime.now()}\")"
   ]
  },
  {
   "cell_type": "markdown",
   "id": "9a0b51ec",
   "metadata": {},
   "source": [
    "## PPMI cohort preparation\n",
    "\n",
    "We will build a PPMI cohort that matches the one used in the original study (Table 1) as much as possible. As in other LivingPark replications, we will use the same sample size as the original study. Our cohort will be built directly from PPMI Study Data files so that it can be replicated and updated whenever necessary."
   ]
  },
  {
   "cell_type": "markdown",
   "id": "c5d778c4",
   "metadata": {},
   "source": [
    "### Study data download\n",
    "\n",
    "We will start by downloading the PPMI Study Data files required to build our cohort:\n",
    "\n",
    "- Age at visit (to retrieve age)Demographics (to retrieve sex)\n",
    "- Socio Economics (to retrieve education)\n",
    "- MDS UPDRS Part III (to retrieve H&Y scores and UPDRS III values)\n",
    "- Montreal Cognitive Assessment MoCA (to retrieve MMSE scores)\n",
    "- PD Diagnosis History (to retrieve duration of illness)\n",
    "- LEDD Concomitant Medication log (to retrieve LEDD values)\n",
    "- Geriatric Depression Scale Short Version (to retrieve GDS scores instead of HAM scores)\n",
    "\n",
    "\n",
    "We will use PPMI downloader to download these files from the PPMI database. If the files are already present, they won't be downloaded again. Otherwise, you will need to enter your PPMI username and password. In case you don't have a PPMI account, you can request one [here](http://ppmi-info.org)."
   ]
  },
  {
   "cell_type": "code",
   "execution_count": 65,
   "id": "9dd9e053",
   "metadata": {},
   "outputs": [
    {
     "name": "stdout",
     "output_type": "stream",
     "text": [
      "The following files are available: ['Age_at_visit.csv', 'Demographics.csv', 'Socio-Economics.csv', 'MDS_UPDRS_Part_III.csv', 'Montreal_Cognitive_Assessment__MoCA_.csv', 'PD_Diagnosis_History.csv', 'LEDD_Concomitant_Medication_Log.csv', 'Geriatric_Depression_Scale__Short_Version_.csv']\n"
     ]
    }
   ],
   "source": [
    "import os\n",
    "import os.path as op\n",
    "import ppmi_downloader\n",
    "import warnings\n",
    "\n",
    "warnings.filterwarnings(\"ignore\")\n",
    "\n",
    "data_dir = \"data\"\n",
    "required_files = [\n",
    "    \"Age_at_visit.csv\",\n",
    "    \"Demographics.csv\",\n",
    "    \"Socio-Economics.csv\",\n",
    "    \"MDS_UPDRS_Part_III.csv\",\n",
    "    \"Montreal_Cognitive_Assessment__MoCA_.csv\",\n",
    "    \"PD_Diagnosis_History.csv\",\n",
    "    \"LEDD_Concomitant_Medication_Log.csv\",\n",
    "    \"Geriatric_Depression_Scale__Short_Version_.csv\",\n",
    "]\n",
    "\n",
    "missing_files = [x for x in required_files if not op.exists(os.path.join(data_dir, x))]\n",
    "\n",
    "if len(missing_files) > 0:\n",
    "    print(f\"Downloading missing files: {missing_files}\")\n",
    "    ppmi = ppmi_downloader.PPMIDownloader()\n",
    "    ppmi.download_metadata(\n",
    "        missing_files, destination_dir=data_dir, headless=False, timeout=600\n",
    "    )\n",
    "\n",
    "print(f\"The following files are available: {required_files}\")"
   ]
  },
  {
   "cell_type": "markdown",
   "id": "7c97beb5",
   "metadata": {},
   "source": [
    "### Cohort matching"
   ]
  },
  {
   "cell_type": "markdown",
   "id": "000a190c",
   "metadata": {},
   "source": [
    "### Utilities"
   ]
  },
  {
   "cell_type": "code",
   "execution_count": 66,
   "id": "16f2149f",
   "metadata": {},
   "outputs": [],
   "source": [
    "import math\n",
    "import matplotlib.pyplot as plt\n",
    "import numpy as np\n",
    "import pandas as pd\n",
    "\n",
    "\n",
    "visit2month = {\n",
    "    \"BL\": 0,\n",
    "    \"V01\": 3,\n",
    "    \"V02\": 6,\n",
    "    \"V03\": 9,\n",
    "    \"V04\": 12,\n",
    "    \"V05\": 18,\n",
    "    \"V06\": 24,\n",
    "    \"V07\": 30,\n",
    "    \"V08\": 36,\n",
    "    \"V09\": 42,\n",
    "    \"V10\": 48,\n",
    "    \"V11\": 54,\n",
    "    \"V12\": 60,\n",
    "    \"V13\": 72,\n",
    "    \"V14\": 84,\n",
    "    \"V15\": 96,\n",
    "    \"V16\": 108,\n",
    "    \"V17\": 120,\n",
    "    \"V18\": 132,\n",
    "    \"V19\": 144,\n",
    "    \"V20\": 156,\n",
    "}\n",
    "\n",
    "\n",
    "def moca2mmse(moca_score):\n",
    "    \"\"\"Returns a MMSE score given MoCA score.\"\"\"\n",
    "    mapping = {\n",
    "        1: 6,\n",
    "        2: 9,\n",
    "        3: 11,\n",
    "        4: 12,\n",
    "        5: 13,\n",
    "        6: 14,\n",
    "        7: 15,\n",
    "        8: 15,\n",
    "        9: 16,\n",
    "        10: 17,\n",
    "        11: 18,\n",
    "        12: 18,\n",
    "        13: 19,\n",
    "        14: 20,\n",
    "        15: 21,\n",
    "        16: 22,\n",
    "        17: 22,\n",
    "        18: 23,\n",
    "        19: 24,\n",
    "        20: 25,\n",
    "        21: 26,\n",
    "        22: 26,\n",
    "        23: 27,\n",
    "        24: 28,\n",
    "        25: 28,\n",
    "        26: 29,\n",
    "        27: 29,\n",
    "        28: 30,\n",
    "        29: 30,\n",
    "        30: 30,\n",
    "    }\n",
    "\n",
    "    try:\n",
    "        if math.isnan(moca_score):\n",
    "            return np.nan\n",
    "        else:\n",
    "            return mapping[moca_score]\n",
    "    except:\n",
    "        return moca_score\n",
    "\n",
    "\n",
    "def reformat_plot_labels(dist, ax, freq):\n",
    "    ax.set_xticklabels([x.removesuffix(\".0\") for x in dist.index.astype(str)])\n",
    "    for label in ax.xaxis.get_ticklabels():\n",
    "        try:\n",
    "            if int(label.get_text()) % freq != 0:\n",
    "                label.set_visible(False)\n",
    "        except:\n",
    "            pass"
   ]
  },
  {
   "cell_type": "markdown",
   "id": "2d94b060",
   "metadata": {},
   "source": [
    "### Duration of illness (DOI)"
   ]
  },
  {
   "cell_type": "code",
   "execution_count": 67,
   "id": "9635f6d9",
   "metadata": {},
   "outputs": [
    {
     "name": "stdout",
     "output_type": "stream",
     "text": [
      "PD Diagnosis:\n",
      "\n",
      "EVENT_ID\n",
      "BL        4\n",
      "SC     1216\n",
      "V04       1\n"
     ]
    }
   ],
   "source": [
    "pddxdt = pd.read_csv(os.path.join(data_dir, \"PD_Diagnosis_History.csv\"))[\n",
    "    [\"PATNO\", \"EVENT_ID\", \"PDDXDT\"]\n",
    "]\n",
    "\n",
    "print(\"PD Diagnosis:\\n\\n\" + pddxdt.groupby([\"EVENT_ID\"]).size().to_string())"
   ]
  },
  {
   "cell_type": "markdown",
   "id": "f3aaf9b5",
   "metadata": {},
   "source": [
    "We will only use the PD diagnosis taken at screening since it is by far the most frequent."
   ]
  },
  {
   "cell_type": "code",
   "execution_count": 68,
   "id": "1b0fd737",
   "metadata": {},
   "outputs": [],
   "source": [
    "from dateutil.parser import parse\n",
    "from dateutil.relativedelta import relativedelta\n",
    "\n",
    "pddxdt = pddxdt[(pddxdt[\"EVENT_ID\"] == \"SC\") & (pddxdt[\"PDDXDT\"].notna())]\n",
    "\n",
    "pdxdur = pd.read_csv(\n",
    "    os.path.join(data_dir, \"MDS_UPDRS_Part_III.csv\"), low_memory=False\n",
    ")[[\"PATNO\", \"EVENT_ID\", \"INFODT\"]]\n",
    "\n",
    "PDDXDT_map = dict(zip(pddxdt[\"PATNO\"].values, pddxdt[\"PDDXDT\"].values))\n",
    "pdxdur[\"PDDXDT\"] = pdxdur[\"PATNO\"].map(PDDXDT_map)\n",
    "\n",
    "pdxdur[\"PDXDUR\"] = pdxdur.apply(\n",
    "    lambda row: relativedelta(parse(row[\"INFODT\"]), parse(row[\"PDDXDT\"])).years\n",
    "    if row[\"PDDXDT\"] is not np.nan\n",
    "    else np.nan,\n",
    "    axis=1,\n",
    ")\n",
    "\n",
    "pdxdur.drop(labels=[\"INFODT\", \"PDDXDT\"], inplace=True, axis=1)"
   ]
  },
  {
   "cell_type": "markdown",
   "id": "d52ce39e",
   "metadata": {},
   "source": [
    "### PD subgroups\n",
    "Study divided PD patients in subgroups based upon duration of illness, defined as the number of years since diagnosis. PD<sub>E</sub> (<1 year), PD<sub>M</sub> (1-5 years), and PD<sub>L</sub> (>5 years)."
   ]
  },
  {
   "cell_type": "code",
   "execution_count": 69,
   "id": "d9c559a7",
   "metadata": {},
   "outputs": [
    {
     "data": {
      "image/png": "[encoded data removed]",
      "text/plain": [
       "<Figure size 432x288 with 1 Axes>"
      ]
     },
     "metadata": {
      "needs_background": "light"
     },
     "output_type": "display_data"
    }
   ],
   "source": [
    "pdxdur[\"DOI\"] = (\n",
    "    pdxdur[\"PDXDUR\"]\n",
    "    .mask(pdxdur[\"PDXDUR\"] < 1, \"PD-early\")\n",
    "    .mask((pdxdur[\"PDXDUR\"] >= 1) & (pdxdur[\"PDXDUR\"] <= 5), \"PD-middle\")\n",
    "    .mask(pdxdur[\"PDXDUR\"] > 5, \"PD-late\")\n",
    ")\n",
    "\n",
    "fig, ax = plt.subplots()\n",
    "dist = pdxdur.groupby([\"DOI\"]).size()\n",
    "plt.bar(dist.index.astype(str), dist.values)\n",
    "plt.title(\"Distribution of PD Subgroups\");"
   ]
  },
  {
   "cell_type": "code",
   "execution_count": null,
   "id": "851cd8b8",
   "metadata": {},
   "outputs": [],
   "source": []
  }
 ],
 "metadata": {
  "kernelspec": {
   "display_name": "Python 3 (ipykernel)",
   "language": "python",
   "name": "python3"
  },
  "language_info": {
   "codemirror_mode": {
    "name": "ipython",
    "version": 3
   },
   "file_extension": ".py",
   "mimetype": "text/x-python",
   "name": "python",
   "nbconvert_exporter": "python",
   "pygments_lexer": "ipython3",
   "version": "3.9.12"
  }
 },
 "nbformat": 4,
 "nbformat_minor": 5
}
